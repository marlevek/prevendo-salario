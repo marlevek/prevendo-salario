{
 "cells": [
  {
   "cell_type": "code",
   "execution_count": 1,
   "metadata": {},
   "outputs": [],
   "source": [
    "# Importando as bibliotecas\n",
    "import numpy as np\n",
    "import pandas as pd\n",
    "import matplotlib.pyplot as plt\n",
    "import seaborn as sns\n",
    "from sklearn.linear_model import LinearRegression\n",
    "from sklearn.model_selection import train_test_split"
   ]
  },
  {
   "cell_type": "markdown",
   "metadata": {},
   "source": [
    "Carregando os dados"
   ]
  },
  {
   "cell_type": "code",
   "execution_count": 2,
   "metadata": {},
   "outputs": [
    {
     "data": {
      "text/html": [
       "<div>\n",
       "<style scoped>\n",
       "    .dataframe tbody tr th:only-of-type {\n",
       "        vertical-align: middle;\n",
       "    }\n",
       "\n",
       "    .dataframe tbody tr th {\n",
       "        vertical-align: top;\n",
       "    }\n",
       "\n",
       "    .dataframe thead th {\n",
       "        text-align: right;\n",
       "    }\n",
       "</style>\n",
       "<table border=\"1\" class=\"dataframe\">\n",
       "  <thead>\n",
       "    <tr style=\"text-align: right;\">\n",
       "      <th></th>\n",
       "      <th>horas_estudo_mes</th>\n",
       "      <th>salario</th>\n",
       "    </tr>\n",
       "  </thead>\n",
       "  <tbody>\n",
       "    <tr>\n",
       "      <th>0</th>\n",
       "      <td>57.0</td>\n",
       "      <td>6813.0</td>\n",
       "    </tr>\n",
       "    <tr>\n",
       "      <th>1</th>\n",
       "      <td>48.0</td>\n",
       "      <td>6855.0</td>\n",
       "    </tr>\n",
       "    <tr>\n",
       "      <th>2</th>\n",
       "      <td>60.0</td>\n",
       "      <td>5801.0</td>\n",
       "    </tr>\n",
       "    <tr>\n",
       "      <th>3</th>\n",
       "      <td>73.0</td>\n",
       "      <td>7431.0</td>\n",
       "    </tr>\n",
       "    <tr>\n",
       "      <th>4</th>\n",
       "      <td>46.0</td>\n",
       "      <td>5475.0</td>\n",
       "    </tr>\n",
       "  </tbody>\n",
       "</table>\n",
       "</div>"
      ],
      "text/plain": [
       "   horas_estudo_mes  salario\n",
       "0              57.0   6813.0\n",
       "1              48.0   6855.0\n",
       "2              60.0   5801.0\n",
       "3              73.0   7431.0\n",
       "4              46.0   5475.0"
      ]
     },
     "execution_count": 2,
     "metadata": {},
     "output_type": "execute_result"
    }
   ],
   "source": [
    "df = pd.read_csv('dataset.csv')\n",
    "df.head()"
   ]
  },
  {
   "cell_type": "code",
   "execution_count": 3,
   "metadata": {},
   "outputs": [
    {
     "data": {
      "text/plain": [
       "(500, 2)"
      ]
     },
     "execution_count": 3,
     "metadata": {},
     "output_type": "execute_result"
    }
   ],
   "source": [
    "# Total de linhas e colunas\n",
    "df.shape"
   ]
  },
  {
   "cell_type": "code",
   "execution_count": 4,
   "metadata": {},
   "outputs": [
    {
     "data": {
      "text/plain": [
       "horas_estudo_mes    float64\n",
       "salario             float64\n",
       "dtype: object"
      ]
     },
     "execution_count": 4,
     "metadata": {},
     "output_type": "execute_result"
    }
   ],
   "source": [
    "# Tipos de dados das colunas\n",
    "df.dtypes"
   ]
  },
  {
   "cell_type": "markdown",
   "metadata": {},
   "source": [
    "Análise Exploratória"
   ]
  },
  {
   "cell_type": "code",
   "execution_count": 5,
   "metadata": {},
   "outputs": [
    {
     "data": {
      "text/html": [
       "<div>\n",
       "<style scoped>\n",
       "    .dataframe tbody tr th:only-of-type {\n",
       "        vertical-align: middle;\n",
       "    }\n",
       "\n",
       "    .dataframe tbody tr th {\n",
       "        vertical-align: top;\n",
       "    }\n",
       "\n",
       "    .dataframe thead th {\n",
       "        text-align: right;\n",
       "    }\n",
       "</style>\n",
       "<table border=\"1\" class=\"dataframe\">\n",
       "  <thead>\n",
       "    <tr style=\"text-align: right;\">\n",
       "      <th></th>\n",
       "      <th>horas_estudo_mes</th>\n",
       "      <th>salario</th>\n",
       "    </tr>\n",
       "  </thead>\n",
       "  <tbody>\n",
       "    <tr>\n",
       "      <th>count</th>\n",
       "      <td>500.000000</td>\n",
       "      <td>500.000000</td>\n",
       "    </tr>\n",
       "    <tr>\n",
       "      <th>mean</th>\n",
       "      <td>50.060000</td>\n",
       "      <td>6018.930000</td>\n",
       "    </tr>\n",
       "    <tr>\n",
       "      <th>std</th>\n",
       "      <td>14.659406</td>\n",
       "      <td>848.697853</td>\n",
       "    </tr>\n",
       "    <tr>\n",
       "      <th>min</th>\n",
       "      <td>1.000000</td>\n",
       "      <td>3664.000000</td>\n",
       "    </tr>\n",
       "    <tr>\n",
       "      <th>25%</th>\n",
       "      <td>39.750000</td>\n",
       "      <td>5473.000000</td>\n",
       "    </tr>\n",
       "    <tr>\n",
       "      <th>50%</th>\n",
       "      <td>50.000000</td>\n",
       "      <td>6013.500000</td>\n",
       "    </tr>\n",
       "    <tr>\n",
       "      <th>75%</th>\n",
       "      <td>60.000000</td>\n",
       "      <td>6542.000000</td>\n",
       "    </tr>\n",
       "    <tr>\n",
       "      <th>max</th>\n",
       "      <td>100.000000</td>\n",
       "      <td>9348.000000</td>\n",
       "    </tr>\n",
       "  </tbody>\n",
       "</table>\n",
       "</div>"
      ],
      "text/plain": [
       "       horas_estudo_mes      salario\n",
       "count        500.000000   500.000000\n",
       "mean          50.060000  6018.930000\n",
       "std           14.659406   848.697853\n",
       "min            1.000000  3664.000000\n",
       "25%           39.750000  5473.000000\n",
       "50%           50.000000  6013.500000\n",
       "75%           60.000000  6542.000000\n",
       "max          100.000000  9348.000000"
      ]
     },
     "execution_count": 5,
     "metadata": {},
     "output_type": "execute_result"
    }
   ],
   "source": [
    "# Resumo estatístico\n",
    "df.describe()"
   ]
  },
  {
   "cell_type": "code",
   "execution_count": 6,
   "metadata": {},
   "outputs": [
    {
     "data": {
      "text/plain": [
       "horas_estudo_mes    0\n",
       "salario             0\n",
       "dtype: int64"
      ]
     },
     "execution_count": 6,
     "metadata": {},
     "output_type": "execute_result"
    }
   ],
   "source": [
    "# Verificar se existem valores ausentes\n",
    "df.isnull().sum()"
   ]
  },
  {
   "cell_type": "code",
   "execution_count": 7,
   "metadata": {},
   "outputs": [
    {
     "data": {
      "text/html": [
       "<div>\n",
       "<style scoped>\n",
       "    .dataframe tbody tr th:only-of-type {\n",
       "        vertical-align: middle;\n",
       "    }\n",
       "\n",
       "    .dataframe tbody tr th {\n",
       "        vertical-align: top;\n",
       "    }\n",
       "\n",
       "    .dataframe thead th {\n",
       "        text-align: right;\n",
       "    }\n",
       "</style>\n",
       "<table border=\"1\" class=\"dataframe\">\n",
       "  <thead>\n",
       "    <tr style=\"text-align: right;\">\n",
       "      <th></th>\n",
       "      <th>horas_estudo_mes</th>\n",
       "      <th>salario</th>\n",
       "    </tr>\n",
       "  </thead>\n",
       "  <tbody>\n",
       "    <tr>\n",
       "      <th>horas_estudo_mes</th>\n",
       "      <td>1.000000</td>\n",
       "      <td>0.818576</td>\n",
       "    </tr>\n",
       "    <tr>\n",
       "      <th>salario</th>\n",
       "      <td>0.818576</td>\n",
       "      <td>1.000000</td>\n",
       "    </tr>\n",
       "  </tbody>\n",
       "</table>\n",
       "</div>"
      ],
      "text/plain": [
       "                  horas_estudo_mes   salario\n",
       "horas_estudo_mes          1.000000  0.818576\n",
       "salario                   0.818576  1.000000"
      ]
     },
     "execution_count": 7,
     "metadata": {},
     "output_type": "execute_result"
    }
   ],
   "source": [
    "# Matriz de correlação\n",
    "df.corr()"
   ]
  },
  {
   "cell_type": "markdown",
   "metadata": {},
   "source": [
    "Podemos ver que há uma correlação forte e positiva entre as variáveis, ou seja, a medida que uma variável aumenta, a outra também aumenta."
   ]
  },
  {
   "cell_type": "code",
   "execution_count": 8,
   "metadata": {},
   "outputs": [
    {
     "data": {
      "text/plain": [
       "<Axes: xlabel='horas_estudo_mes', ylabel='Count'>"
      ]
     },
     "execution_count": 8,
     "metadata": {},
     "output_type": "execute_result"
    },
    {
     "data": {
      "image/png": "[encoded data removed]",
      "text/plain": [
       "<Figure size 432x288 with 1 Axes>"
      ]
     },
     "metadata": {
      "needs_background": "light"
     },
     "output_type": "display_data"
    }
   ],
   "source": [
    "# Histograma da variável preditora\n",
    "sns.histplot(data=df, x = 'horas_estudo_mes', kde=True)"
   ]
  },
  {
   "cell_type": "markdown",
   "metadata": {},
   "source": [
    "Preparação dos Dados"
   ]
  },
  {
   "cell_type": "code",
   "execution_count": 9,
   "metadata": {},
   "outputs": [
    {
     "data": {
      "text/plain": [
       "array([ 57.,  48.,  60.,  73.,  46.,  46.,  74.,  62.,  43.,  58.,  43.,\n",
       "        43.,  54.,  21.,  24.,  42.,  35.,  55.,  36.,  29.,  72.,  47.,\n",
       "        51.,  29.,  42.,  52.,  33.,  56.,  41.,  46.,  41.,  78.,  50.,\n",
       "        34.,  62.,  32.,  53.,  21.,  30.,  53.,  61.,  53.,  48.,  45.,\n",
       "        28.,  39.,  43.,  66.,  55.,  24.,  55.,  44.,  40.,  59.,  65.,\n",
       "        64.,  37.,  45.,  55.,  65.,  43.,  47.,  33.,  32.,  62.,  70.,\n",
       "        49.,  65.,  55.,  40.,  55.,  73.,  49.,  73.,  11.,  62.,  51.,\n",
       "        46.,  51.,  20.,  47.,  55.,  72.,  42.,  38.,  42.,  64.,  55.,\n",
       "        42.,  58.,  51.,  65.,  39.,  45.,  44.,  28.,  54.,  54.,  50.,\n",
       "        46.,  29.,  44.,  45.,  38.,  48.,  56.,  78.,  53.,  54.,  49.,\n",
       "        21.,  50.,  51.,  87.,  47.,  55.,  49.,  32.,  67.,  61.,  62.,\n",
       "        36.,  71.,  29.,  59.,  83.,  35.,  42.,  51.,  42.,  27.,  51.,\n",
       "        34.,  57.,  36.,  73.,  38.,  45.,  62.,  32.,  53.,  70.,  26.,\n",
       "        53.,  54.,  62.,  31.,  30.,  58.,  54.,  54.,  55.,  40.,  53.,\n",
       "        54.,  39.,  78.,  57.,  32.,  60.,  35.,  62.,  67.,  38.,  64.,\n",
       "        56.,  62.,  78.,  46.,  39.,  37.,  38.,  49.,  55.,  54.,  62.,\n",
       "        50.,  72.,  46.,  91.,  59.,  37.,  34.,  57.,  47.,  61.,  57.,\n",
       "        49.,  37.,  27.,  43.,  63.,  53.,  31.,  53.,  56.,  37.,  52.,\n",
       "        51.,  33.,  55.,  58.,  66.,  66.,  29.,  36.,  58.,  58.,  58.,\n",
       "       100.,  59.,  67.,  64.,  60.,  45.,  61.,  38.,  46.,  43.,  51.,\n",
       "        85.,  22.,  60.,  26.,  43.,  66.,  51.,  34.,  39.,  60.,  39.,\n",
       "        53.,  51.,  40.,  82.,  60.,  20.,  53.,  40.,  63.,  38.,  48.,\n",
       "        58.,  63.,  32.,  45.,  43.,  40.,  76.,  56.,  31.,  64.,  82.,\n",
       "        65.,  27.,  43.,  69.,  39.,  57.,  62.,  36.,  49.,   1.,  35.,\n",
       "        46.,  31.,  74.,  29.,  43.,  52.,  72.,  28.,  67.,  50.,  35.,\n",
       "        57.,  53.,  41.,  51.,  44.,  52.,  60.,  74.,  31.,  82.,  21.,\n",
       "        48.,  59.,  54.,  41.,  47.,  43.,  41.,  63.,  55.,  40.,  63.,\n",
       "        55.,  62.,  59.,  38.,  42.,  61.,  59.,  50.,  52.,  69.,  41.,\n",
       "        58.,  47.,  47.,  66.,  62.,  62.,  70.,  50.,  60.,  45.,  55.,\n",
       "        48.,  51.,  59.,  38.,  81.,  35.,  32.,  67.,  62.,  59.,  59.,\n",
       "        50.,  37.,  51.,  40.,  65.,  48.,  38.,  45.,  56.,  42.,  38.,\n",
       "        54.,  54.,  42.,  43.,  53.,  28.,  29.,  39.,  47.,  55.,  72.,\n",
       "        63.,  48.,  50.,  35.,  50.,  46.,  55.,  38.,  58.,  73.,  48.,\n",
       "        56.,  60.,  44.,  53.,  50.,  51.,  38.,  50.,  57.,  72.,  64.,\n",
       "        82.,  38.,  63.,  53.,  83.,  38.,  37.,  41.,  18.,  42.,  39.,\n",
       "        52.,  55.,  78.,  64.,  41.,  37.,  57.,  30.,  77.,  68.,  43.,\n",
       "        24.,  70.,  48.,  69.,  26.,  41.,  50.,  51.,  43.,  59.,  34.,\n",
       "        48.,  52.,  58.,  61.,  33.,  27.,  69.,  55.,  39.,  73.,  52.,\n",
       "        68.,  51.,  81.,  76.,  46.,  65.,  60.,  71.,  36.,  60.,  66.,\n",
       "        24.,  32.,  19.,  46.,  61.,  73.,  51.,  74.,  29.,  24.,  49.,\n",
       "        56.,  50.,  19.,  49.,  30.,  60.,  55.,  36.,  42.,  34.,  49.,\n",
       "        64.,  35.,  58.,  42.,  38.,  48.,  34.,  42.,  32.,  79.,  51.,\n",
       "        40.,  53.,  48.,  47.,  59.,  61.,  42.,  41.,  46.,  15.,  27.,\n",
       "        71.,  75.,  46.,  59.,  55.,  96.,  67.,  48.,  36.,  26.,  53.,\n",
       "        39.,  29.,  40.,  34.,  75.,  63.,  50.,  72.,  51.,  37.,  73.,\n",
       "        58.,  34.,  47.,  37.,  29.])"
      ]
     },
     "execution_count": 9,
     "metadata": {},
     "output_type": "execute_result"
    }
   ],
   "source": [
    "# Prepara a variavel de entreda X em um array, pois o scikit-learn espera receber o dado de entrada no formato de matriz \n",
    "X = np.array(df['horas_estudo_mes'])\n",
    "X"
   ]
  },
  {
   "cell_type": "code",
   "execution_count": 10,
   "metadata": {},
   "outputs": [
    {
     "data": {
      "text/plain": [
       "array([ 57.,  48.,  60.,  73.,  46.,  46.,  74.,  62.,  43.,  58.,  43.,\n",
       "        43.,  54.,  21.,  24.,  42.,  35.,  55.,  36.,  29.,  72.,  47.,\n",
       "        51.,  29.,  42.,  52.,  33.,  56.,  41.,  46.,  41.,  78.,  50.,\n",
       "        34.,  62.,  32.,  53.,  21.,  30.,  53.,  61.,  53.,  48.,  45.,\n",
       "        28.,  39.,  43.,  66.,  55.,  24.,  55.,  44.,  40.,  59.,  65.,\n",
       "        64.,  37.,  45.,  55.,  65.,  43.,  47.,  33.,  32.,  62.,  70.,\n",
       "        49.,  65.,  55.,  40.,  55.,  73.,  49.,  73.,  11.,  62.,  51.,\n",
       "        46.,  51.,  20.,  47.,  55.,  72.,  42.,  38.,  42.,  64.,  55.,\n",
       "        42.,  58.,  51.,  65.,  39.,  45.,  44.,  28.,  54.,  54.,  50.,\n",
       "        46.,  29.,  44.,  45.,  38.,  48.,  56.,  78.,  53.,  54.,  49.,\n",
       "        21.,  50.,  51.,  87.,  47.,  55.,  49.,  32.,  67.,  61.,  62.,\n",
       "        36.,  71.,  29.,  59.,  83.,  35.,  42.,  51.,  42.,  27.,  51.,\n",
       "        34.,  57.,  36.,  73.,  38.,  45.,  62.,  32.,  53.,  70.,  26.,\n",
       "        53.,  54.,  62.,  31.,  30.,  58.,  54.,  54.,  55.,  40.,  53.,\n",
       "        54.,  39.,  78.,  57.,  32.,  60.,  35.,  62.,  67.,  38.,  64.,\n",
       "        56.,  62.,  78.,  46.,  39.,  37.,  38.,  49.,  55.,  54.,  62.,\n",
       "        50.,  72.,  46.,  91.,  59.,  37.,  34.,  57.,  47.,  61.,  57.,\n",
       "        49.,  37.,  27.,  43.,  63.,  53.,  31.,  53.,  56.,  37.,  52.,\n",
       "        51.,  33.,  55.,  58.,  66.,  66.,  29.,  36.,  58.,  58.,  58.,\n",
       "       100.,  59.,  67.,  64.,  60.,  45.,  61.,  38.,  46.,  43.,  51.,\n",
       "        85.,  22.,  60.,  26.,  43.,  66.,  51.,  34.,  39.,  60.,  39.,\n",
       "        53.,  51.,  40.,  82.,  60.,  20.,  53.,  40.,  63.,  38.,  48.,\n",
       "        58.,  63.,  32.,  45.,  43.,  40.,  76.,  56.,  31.,  64.,  82.,\n",
       "        65.,  27.,  43.,  69.,  39.,  57.,  62.,  36.,  49.,   1.,  35.,\n",
       "        46.,  31.,  74.,  29.,  43.,  52.,  72.,  28.,  67.,  50.,  35.,\n",
       "        57.,  53.,  41.,  51.,  44.,  52.,  60.,  74.,  31.,  82.,  21.,\n",
       "        48.,  59.,  54.,  41.,  47.,  43.,  41.,  63.,  55.,  40.,  63.,\n",
       "        55.,  62.,  59.,  38.,  42.,  61.,  59.,  50.,  52.,  69.,  41.,\n",
       "        58.,  47.,  47.,  66.,  62.,  62.,  70.,  50.,  60.,  45.,  55.,\n",
       "        48.,  51.,  59.,  38.,  81.,  35.,  32.,  67.,  62.,  59.,  59.,\n",
       "        50.,  37.,  51.,  40.,  65.,  48.,  38.,  45.,  56.,  42.,  38.,\n",
       "        54.,  54.,  42.,  43.,  53.,  28.,  29.,  39.,  47.,  55.,  72.,\n",
       "        63.,  48.,  50.,  35.,  50.,  46.,  55.,  38.,  58.,  73.,  48.,\n",
       "        56.,  60.,  44.,  53.,  50.,  51.,  38.,  50.,  57.,  72.,  64.,\n",
       "        82.,  38.,  63.,  53.,  83.,  38.,  37.,  41.,  18.,  42.,  39.,\n",
       "        52.,  55.,  78.,  64.,  41.,  37.,  57.,  30.,  77.,  68.,  43.,\n",
       "        24.,  70.,  48.,  69.,  26.,  41.,  50.,  51.,  43.,  59.,  34.,\n",
       "        48.,  52.,  58.,  61.,  33.,  27.,  69.,  55.,  39.,  73.,  52.,\n",
       "        68.,  51.,  81.,  76.,  46.,  65.,  60.,  71.,  36.,  60.,  66.,\n",
       "        24.,  32.,  19.,  46.,  61.,  73.,  51.,  74.,  29.,  24.,  49.,\n",
       "        56.,  50.,  19.,  49.,  30.,  60.,  55.,  36.,  42.,  34.,  49.,\n",
       "        64.,  35.,  58.,  42.,  38.,  48.,  34.,  42.,  32.,  79.,  51.,\n",
       "        40.,  53.,  48.,  47.,  59.,  61.,  42.,  41.,  46.,  15.,  27.,\n",
       "        71.,  75.,  46.,  59.,  55.,  96.,  67.,  48.,  36.,  26.,  53.,\n",
       "        39.,  29.,  40.,  34.,  75.,  63.,  50.,  72.,  51.,  37.,  73.,\n",
       "        58.,  34.,  47.,  37.,  29.])"
      ]
     },
     "execution_count": 10,
     "metadata": {},
     "output_type": "execute_result"
    }
   ],
   "source": [
    "# Também podemos preparar o X da seguinte forma\n",
    "X = df['horas_estudo_mes'].values\n",
    "X"
   ]
  },
  {
   "cell_type": "code",
   "execution_count": 11,
   "metadata": {},
   "outputs": [],
   "source": [
    "# Prepara a variável alvo, de saída\n",
    "y = df['salario']"
   ]
  },
  {
   "cell_type": "code",
   "execution_count": 12,
   "metadata": {},
   "outputs": [],
   "source": [
    "# Ajusta o shape de X  \n",
    "X = X.reshape(-1, 1)"
   ]
  },
  {
   "cell_type": "code",
   "execution_count": 14,
   "metadata": {},
   "outputs": [
    {
     "data": {
      "image/png": "[encoded data removed]",
      "text/plain": [
       "<Figure size 432x288 with 1 Axes>"
      ]
     },
     "metadata": {
      "needs_background": "light"
     },
     "output_type": "display_data"
    }
   ],
   "source": [
    "# Gráfico de dispersão entre X e y para verficar se há relação entre eles\n",
    "plt.scatter(X, y, color='b', label='Dados Reais Históricos')\n",
    "plt.xlabel('Horas de Estudo')\n",
    "plt.ylabel('Salário')\n",
    "plt.legend()\n",
    "plt.show();"
   ]
  },
  {
   "cell_type": "code",
   "execution_count": 15,
   "metadata": {},
   "outputs": [],
   "source": [
    "# Dividir dados de treinamento e teste\n",
    "X_train, X_test, y_train, y_test = train_test_split(\n",
    "    X, y, test_size=0.2, random_state=42)"
   ]
  },
  {
   "cell_type": "code",
   "execution_count": 16,
   "metadata": {},
   "outputs": [
    {
     "data": {
      "text/plain": [
       "(400, 1)"
      ]
     },
     "execution_count": 16,
     "metadata": {},
     "output_type": "execute_result"
    }
   ],
   "source": [
    "X_train.shape"
   ]
  },
  {
   "cell_type": "code",
   "execution_count": 17,
   "metadata": {},
   "outputs": [
    {
     "data": {
      "text/plain": [
       "(100, 1)"
      ]
     },
     "execution_count": 17,
     "metadata": {},
     "output_type": "execute_result"
    }
   ],
   "source": [
    "X_test.shape"
   ]
  },
  {
   "cell_type": "code",
   "execution_count": 18,
   "metadata": {},
   "outputs": [
    {
     "data": {
      "text/plain": [
       "(400,)"
      ]
     },
     "execution_count": 18,
     "metadata": {},
     "output_type": "execute_result"
    }
   ],
   "source": [
    "y_train.shape"
   ]
  },
  {
   "cell_type": "code",
   "execution_count": 19,
   "metadata": {},
   "outputs": [
    {
     "data": {
      "text/plain": [
       "(100,)"
      ]
     },
     "execution_count": 19,
     "metadata": {},
     "output_type": "execute_result"
    }
   ],
   "source": [
    "y_test.shape"
   ]
  },
  {
   "cell_type": "markdown",
   "metadata": {},
   "source": [
    "#### Modelagem Preditiva"
   ]
  },
  {
   "cell_type": "code",
   "execution_count": 20,
   "metadata": {},
   "outputs": [],
   "source": [
    "# Cria o modelo de regressao linear simples\n",
    "modelo = LinearRegression()"
   ]
  },
  {
   "cell_type": "code",
   "execution_count": 21,
   "metadata": {},
   "outputs": [
    {
     "data": {
      "text/plain": [
       "LinearRegression()"
      ]
     },
     "execution_count": 21,
     "metadata": {},
     "output_type": "execute_result"
    }
   ],
   "source": [
    "# Treina o modelo\n",
    "modelo.fit(X_train, y_train)"
   ]
  },
  {
   "cell_type": "code",
   "execution_count": 22,
   "metadata": {},
   "outputs": [
    {
     "data": {
      "image/png": "[encoded data removed]",
      "text/plain": [
       "<Figure size 432x288 with 1 Axes>"
      ]
     },
     "metadata": {
      "needs_background": "light"
     },
     "output_type": "display_data"
    }
   ],
   "source": [
    "# Visualiza a reta de regressão linear (previsões) e os dados reais usados no treinamento\n",
    "plt.scatter(X, y, color='blue', label='Dados Reais Históricos')\n",
    "plt.plot(X, modelo.predict(X), color='r', label='Reta de Regressão com as Previsões do Modelo')\n",
    "plt.xlabel('Horas de Estudo')\n",
    "plt.ylabel('Salário')\n",
    "plt.legend()\n",
    "plt.show()"
   ]
  },
  {
   "cell_type": "code",
   "execution_count": 23,
   "metadata": {},
   "outputs": [
    {
     "name": "stdout",
     "output_type": "stream",
     "text": [
      "Coeficiente R²: 0.59\n"
     ]
    }
   ],
   "source": [
    "# Avalia o modelo nos dados de teste\n",
    "score = modelo.score(X_test, y_test)\n",
    "print(f'Coeficiente R²: {score:.2f}')"
   ]
  },
  {
   "cell_type": "markdown",
   "metadata": {},
   "source": [
    "Por ser a primeira versão do modelo, sem qualquer ajuste, esse coeficiente está bom (vai de 0 a 1)"
   ]
  },
  {
   "cell_type": "code",
   "execution_count": 24,
   "metadata": {},
   "outputs": [
    {
     "data": {
      "text/plain": [
       "3596.783724372753"
      ]
     },
     "execution_count": 24,
     "metadata": {},
     "output_type": "execute_result"
    }
   ],
   "source": [
    "# Intercepto = parâmetro w0\n",
    "modelo.intercept_"
   ]
  },
  {
   "cell_type": "code",
   "execution_count": 25,
   "metadata": {},
   "outputs": [
    {
     "data": {
      "text/plain": [
       "array([48.18185277])"
      ]
     },
     "execution_count": 25,
     "metadata": {},
     "output_type": "execute_result"
    }
   ],
   "source": [
    "# Slope = parâmetro w1\n",
    "modelo.coef_"
   ]
  },
  {
   "cell_type": "markdown",
   "metadata": {},
   "source": [
    "Deploy do Modelo"
   ]
  },
  {
   "cell_type": "code",
   "execution_count": 26,
   "metadata": {},
   "outputs": [],
   "source": [
    "# Define um novo valor para horas de estudo\n",
    "horas_estudo_novo = np.array([[48]])"
   ]
  },
  {
   "cell_type": "code",
   "execution_count": 29,
   "metadata": {},
   "outputs": [
    {
     "name": "stdout",
     "output_type": "stream",
     "text": [
      "Estudando cerca de [[48]] horas por mês, seu salário pode ser igual a [5909.5126574]\n"
     ]
    }
   ],
   "source": [
    "# Faz previsão com o modelo treinado\n",
    "salario_previsto = modelo.predict(horas_estudo_novo)\n",
    "print(f'Estudando cerca de {horas_estudo_novo} horas por mês, seu salário pode ser igual a {salario_previsto}')"
   ]
  },
  {
   "cell_type": "code",
   "execution_count": 30,
   "metadata": {},
   "outputs": [
    {
     "name": "stdout",
     "output_type": "stream",
     "text": [
      "[[5909.5126574]]\n"
     ]
    }
   ],
   "source": [
    "# Mesmo resultado anterior usando os parâmetros (coeficientes) aprendidos pelo modelo\n",
    "salario = modelo.intercept_ + modelo.coef_ * horas_estudo_novo\n",
    "print(salario)"
   ]
  },
  {
   "cell_type": "code",
   "execution_count": 34,
   "metadata": {},
   "outputs": [
    {
     "name": "stdout",
     "output_type": "stream",
     "text": [
      "Com [[65]] horas de estudo por mês, seu salário pode ser igual a [6728.60415452]\n"
     ]
    }
   ],
   "source": [
    "# Define um novo valor para horas de estudo\n",
    "horas_estudo_novo = np.array([[65]])\n",
    "\n",
    "# Previsão do salário\n",
    "salario_previsto = modelo.predict(horas_estudo_novo)\n",
    "\n",
    "print(f'Com {horas_estudo_novo} horas de estudo por mês, seu salário pode ser igual a {salario_previsto}')"
   ]
  }
 ],
 "metadata": {
  "kernelspec": {
   "display_name": "Python 3",
   "language": "python",
   "name": "python3"
  },
  "language_info": {
   "codemirror_mode": {
    "name": "ipython",
    "version": 3
   },
   "file_extension": ".py",
   "mimetype": "text/x-python",
   "name": "python",
   "nbconvert_exporter": "python",
   "pygments_lexer": "ipython3",
   "version": "3.10.1"
  },
  "orig_nbformat": 4
 },
 "nbformat": 4,
 "nbformat_minor": 2
}
